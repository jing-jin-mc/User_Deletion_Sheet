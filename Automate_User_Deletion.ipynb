{
 "cells": [
  {
   "cell_type": "code",
   "execution_count": 1,
   "metadata": {
    "code_folding": []
   },
   "outputs": [],
   "source": [
    "# Import libraries \n",
    "import pandas as pd\n",
    "import warnings\n",
    "warnings.filterwarnings(\"ignore\")"
   ]
  },
  {
   "cell_type": "code",
   "execution_count": 3,
   "metadata": {
    "code_folding": []
   },
   "outputs": [],
   "source": [
    "# Import the code for fetching GA Data\n",
    "from gaData import *"
   ]
  },
  {
   "cell_type": "code",
   "execution_count": 5,
   "metadata": {
    "code_folding": []
   },
   "outputs": [],
   "source": [
    "######### Configure the inputs ##################\n",
    "### Replace with your own view_id\n",
    "gaView = \"xxxxxxxx\"\n",
    "### Set the date range for your data\n",
    "start_date='2018-01-01'\n",
    "end_date='2018-11-30'\n",
    "### Replace with your own segmentId you found in Query Explorer\n",
    "segments = [{\"segmentId\": \"gaid::xxxxxxxxxxxxxx\"}]\n",
    "### To get data, we must have one metrics, here we use sessions\n",
    "metrics=[{\"expression\": \"ga:sessions\"}]\n",
    "### Replace with your own custom dimention ID and include segment also\n",
    "dimensions=[{\"name\": \"ga:dimensionXX\"},{\"name\": \"ga:segment\"}]\n",
    "### Your data will be grouped by the dimensions you use \n",
    "group_by = [\"ga:dimensionXX\",\"ga:segment\"]\n",
    "### Set your client secret path where you put your client credentials \n",
    "CLIENT_SECRETS_PATH = 'key/client_secret.json'"
   ]
  },
  {
   "cell_type": "code",
   "execution_count": 6,
   "metadata": {
    "code_folding": []
   },
   "outputs": [],
   "source": [
    "# Initiate the analytics client\n",
    "analytics = initialize_analyticsreporting(CLIENT_SECRETS_PATH)"
   ]
  },
  {
   "cell_type": "code",
   "execution_count": 7,
   "metadata": {
    "code_folding": []
   },
   "outputs": [
    {
     "name": "stdout",
     "output_type": "stream",
     "text": [
      "Running Time --- 1559.456502199173 seconds ---\n"
     ]
    },
    {
     "data": {
      "text/html": [
       "<div>\n",
       "<style scoped>\n",
       "    .dataframe tbody tr th:only-of-type {\n",
       "        vertical-align: middle;\n",
       "    }\n",
       "\n",
       "    .dataframe tbody tr th {\n",
       "        vertical-align: top;\n",
       "    }\n",
       "\n",
       "    .dataframe thead th {\n",
       "        text-align: right;\n",
       "    }\n",
       "</style>\n",
       "<table border=\"1\" class=\"dataframe\">\n",
       "  <thead>\n",
       "    <tr style=\"text-align: right;\">\n",
       "      <th></th>\n",
       "      <th>ga:dimension42</th>\n",
       "      <th>ga:segment</th>\n",
       "      <th>ga:sessions</th>\n",
       "    </tr>\n",
       "  </thead>\n",
       "  <tbody>\n",
       "    <tr>\n",
       "      <th>0</th>\n",
       "      <td>1001033209.1481225329</td>\n",
       "      <td>phoneNumber</td>\n",
       "      <td>2.0</td>\n",
       "    </tr>\n",
       "    <tr>\n",
       "      <th>1</th>\n",
       "      <td>1001090294.1528794762</td>\n",
       "      <td>phoneNumber</td>\n",
       "      <td>1.0</td>\n",
       "    </tr>\n",
       "    <tr>\n",
       "      <th>2</th>\n",
       "      <td>1007582195.1522236043</td>\n",
       "      <td>phoneNumber</td>\n",
       "      <td>3.0</td>\n",
       "    </tr>\n",
       "    <tr>\n",
       "      <th>3</th>\n",
       "      <td>1010110771.1512153214</td>\n",
       "      <td>phoneNumber</td>\n",
       "      <td>1.0</td>\n",
       "    </tr>\n",
       "    <tr>\n",
       "      <th>4</th>\n",
       "      <td>101499865.1532375076</td>\n",
       "      <td>phoneNumber</td>\n",
       "      <td>1.0</td>\n",
       "    </tr>\n",
       "  </tbody>\n",
       "</table>\n",
       "</div>"
      ],
      "text/plain": [
       "          ga:dimension42   ga:segment  ga:sessions\n",
       "0  1001033209.1481225329  phoneNumber          2.0\n",
       "1  1001090294.1528794762  phoneNumber          1.0\n",
       "2  1007582195.1522236043  phoneNumber          3.0\n",
       "3  1010110771.1512153214  phoneNumber          1.0\n",
       "4   101499865.1532375076  phoneNumber          1.0"
      ]
     },
     "execution_count": 7,
     "metadata": {},
     "output_type": "execute_result"
    }
   ],
   "source": [
    "######### Run the program to get data ##################\n",
    "start_time = time.time()\n",
    "data = return_ga_data(analytics,\n",
    "                      start_date= start_date,\n",
    "                      end_date=end_date,\n",
    "                      view_id=gaView,\n",
    "                      metrics=metrics,\n",
    "                      dimensions=dimensions,\n",
    "                      segments = segments,\n",
    "                      group_by = group_by)\n",
    "print(\"Running Time --- %s seconds ---\" % (time.time() - start_time))\n",
    "data.head()"
   ]
  },
  {
   "cell_type": "code",
   "execution_count": 2,
   "metadata": {},
   "outputs": [],
   "source": [
    "# Import libraries for connect to google spread sheet\n",
    "import gspread\n",
    "from oauth2client.service_account import ServiceAccountCredentials\n",
    "from df2gspread import df2gspread as d2g"
   ]
  },
  {
   "cell_type": "code",
   "execution_count": 12,
   "metadata": {},
   "outputs": [],
   "source": [
    "# Specify we are using client IDs to delete users\n",
    "data['typeId'] = 'CLIENT_ID'\n",
    "# Select the columns we need to upload to the Google Sheet\n",
    "df = data[['ga:dimension42','typeId']]"
   ]
  },
  {
   "cell_type": "code",
   "execution_count": 13,
   "metadata": {},
   "outputs": [
    {
     "data": {
      "text/html": [
       "<div>\n",
       "<style scoped>\n",
       "    .dataframe tbody tr th:only-of-type {\n",
       "        vertical-align: middle;\n",
       "    }\n",
       "\n",
       "    .dataframe tbody tr th {\n",
       "        vertical-align: top;\n",
       "    }\n",
       "\n",
       "    .dataframe thead th {\n",
       "        text-align: right;\n",
       "    }\n",
       "</style>\n",
       "<table border=\"1\" class=\"dataframe\">\n",
       "  <thead>\n",
       "    <tr style=\"text-align: right;\">\n",
       "      <th></th>\n",
       "      <th>ga:dimension42</th>\n",
       "      <th>typeId</th>\n",
       "    </tr>\n",
       "  </thead>\n",
       "  <tbody>\n",
       "    <tr>\n",
       "      <th>0</th>\n",
       "      <td>1.001033e+09</td>\n",
       "      <td>CLIENT_ID</td>\n",
       "    </tr>\n",
       "    <tr>\n",
       "      <th>1</th>\n",
       "      <td>1.001090e+09</td>\n",
       "      <td>CLIENT_ID</td>\n",
       "    </tr>\n",
       "    <tr>\n",
       "      <th>2</th>\n",
       "      <td>1.007582e+09</td>\n",
       "      <td>CLIENT_ID</td>\n",
       "    </tr>\n",
       "    <tr>\n",
       "      <th>3</th>\n",
       "      <td>1.010111e+09</td>\n",
       "      <td>CLIENT_ID</td>\n",
       "    </tr>\n",
       "    <tr>\n",
       "      <th>4</th>\n",
       "      <td>1.014999e+08</td>\n",
       "      <td>CLIENT_ID</td>\n",
       "    </tr>\n",
       "  </tbody>\n",
       "</table>\n",
       "</div>"
      ],
      "text/plain": [
       "   ga:dimension42     typeId\n",
       "0    1.001033e+09  CLIENT_ID\n",
       "1    1.001090e+09  CLIENT_ID\n",
       "2    1.007582e+09  CLIENT_ID\n",
       "3    1.010111e+09  CLIENT_ID\n",
       "4    1.014999e+08  CLIENT_ID"
      ]
     },
     "execution_count": 13,
     "metadata": {},
     "output_type": "execute_result"
    }
   ],
   "source": [
    "df.head()"
   ]
  },
  {
   "cell_type": "code",
   "execution_count": 16,
   "metadata": {},
   "outputs": [],
   "source": [
    "# Configure the connection \n",
    "scope = ['https://spreadsheets.google.com/feeds']\n",
    "credentials = ServiceAccountCredentials.from_json_keyfile_name('key/service_account_GS.json', scope)\n",
    "gc = gspread.authorize(credentials)\n",
    "#### The sprad sheet ID, which can be taken from the link to the sheet\n",
    "spreadsheet_key = '1uHQgUSElHaKSKATOYUxZjwnNx4NuR0U0XDjieIkTToM'"
   ]
  },
  {
   "cell_type": "code",
   "execution_count": 18,
   "metadata": {},
   "outputs": [
    {
     "name": "stdout",
     "output_type": "stream",
     "text": [
      "The sheet is updated successfully\n"
     ]
    }
   ],
   "source": [
    "# Set the sheet name you want to upload data to and the start cell where the upload data begins \n",
    "wks_name = 'Main'\n",
    "cell_of_start_df = 'A5'\n",
    "# upload the dataframe of the clients we want to delete\n",
    "d2g.upload(df,\n",
    "           spreadsheet_key,\n",
    "           wks_name,\n",
    "           credentials=credentials,\n",
    "           col_names=False,\n",
    "           row_names=False,\n",
    "           start_cell = cell_of_start_df,\n",
    "           clean=False)\n",
    "print ('The sheet is updated successfully')"
   ]
  }
 ],
 "metadata": {
  "kernelspec": {
   "display_name": "Python 3",
   "language": "python",
   "name": "python3"
  },
  "language_info": {
   "codemirror_mode": {
    "name": "ipython",
    "version": 3
   },
   "file_extension": ".py",
   "mimetype": "text/x-python",
   "name": "python",
   "nbconvert_exporter": "python",
   "pygments_lexer": "ipython3",
   "version": "3.6.4"
  },
  "latex_envs": {
   "LaTeX_envs_menu_present": true,
   "autoclose": false,
   "autocomplete": true,
   "bibliofile": "biblio.bib",
   "cite_by": "apalike",
   "current_citInitial": 1,
   "eqLabelWithNumbers": true,
   "eqNumInitial": 1,
   "hotkeys": {
    "equation": "Ctrl-E",
    "itemize": "Ctrl-I"
   },
   "labels_anchors": false,
   "latex_user_defs": false,
   "report_style_numbering": false,
   "user_envs_cfg": false
  }
 },
 "nbformat": 4,
 "nbformat_minor": 2
}
